{
 "cells": [
  {
   "cell_type": "code",
   "execution_count": 1,
   "metadata": {},
   "outputs": [],
   "source": [
    "import pandas as pd\n",
    "import numpy as np\n",
    "from scipy.sparse import dok_matrix"
   ]
  },
  {
   "cell_type": "code",
   "execution_count": 124,
   "metadata": {},
   "outputs": [],
   "source": [
    "ratings_path = \"/Volumes/External/datasets/Recommendation/MovieLens/ml-20m/ratings-1m.csv\"\n",
    "titles_path = \"/Volumes/External/datasets/Recommendation/MovieLens/ml-20m/movies.csv\"\n",
    "\n",
    "titles = pd.read_csv(titles_path).drop('genres', axis=1)\n",
    "data = pd.read_csv(ratings_path).drop('timestamp', axis=1)\n",
    "data_clean = data.groupby('movieId').filter(lambda x: len(x) >= 20).groupby('userId').filter(lambda x: len(x) >= 20)"
   ]
  },
  {
   "cell_type": "code",
   "execution_count": 360,
   "metadata": {},
   "outputs": [],
   "source": [
    "n_users = data_clean['userId'].nunique()\n",
    "n_movies = data_clean['movieId'].nunique()\n",
    "tr_ratings = np.zeros((n_users, n_movies))\n",
    "te_ratings = np.zeros((n_users, n_movies))"
   ]
  },
  {
   "cell_type": "code",
   "execution_count": 361,
   "metadata": {},
   "outputs": [],
   "source": [
    "split_mask = np.random.rand(len(data_clean)) < 0.8\n",
    "train = data_clean[split_mask]\n",
    "test = data_clean[~split_mask]"
   ]
  },
  {
   "cell_type": "code",
   "execution_count": 362,
   "metadata": {},
   "outputs": [],
   "source": [
    "new_id, old_id = zip(*enumerate(data_clean['movieId'].unique()))\n",
    "old_m2new = dict(zip(old_id, new_id))\n",
    "new_id, old_id = zip(*enumerate(data_clean['userId'].unique()))\n",
    "old_u2new = dict(zip(old_id, new_id))"
   ]
  },
  {
   "cell_type": "code",
   "execution_count": 367,
   "metadata": {},
   "outputs": [],
   "source": [
    "train_d = train.values\n",
    "tr_userId = np.vectorize(lambda x: old_u2new[x])(train_d[:,0])\n",
    "tr_movieId = np.vectorize(lambda x: old_m2new[x])(train_d[:,1])\n",
    "tr_ratings_val = train_d[:,2]\n",
    "\n",
    "test_d = test.values\n",
    "te_userId = np.vectorize(lambda x: old_u2new[x])(test_d[:,0])\n",
    "te_movieId = np.vectorize(lambda x: old_m2new[x])(test_d[:,1])\n",
    "te_ratings_val = test_d[:,2]\n",
    "# t_movieId = np.array([old2new[x] for x in val[:,1]]) # try time it"
   ]
  },
  {
   "cell_type": "code",
   "execution_count": 368,
   "metadata": {},
   "outputs": [],
   "source": [
    "tr_ratings[tr_userId, tr_movieId] = tr_ratings_val # user ratings start with 1\n",
    "te_ratings[te_userId, te_movieId] = te_ratings_val"
   ]
  },
  {
   "cell_type": "code",
   "execution_count": 377,
   "metadata": {},
   "outputs": [],
   "source": [
    "decom_rank = 10\n",
    "l = 2.\n",
    "max_iter = 100\n",
    "lr = 0.5\n",
    "lr_decay = 0.95"
   ]
  },
  {
   "cell_type": "code",
   "execution_count": 378,
   "metadata": {},
   "outputs": [],
   "source": [
    "user_m = np.random.rand(n_users, decom_rank)\n",
    "item_m = np.random.rand(n_movies, decom_rank)\n",
    "tr_mask = np.zeros((n_users, n_movies))\n",
    "te_mask = np.zeros((n_users, n_movies))\n",
    "tr_mask[np.where(tr_ratings!=0.)] = 1.\n",
    "te_mask[np.where(te_ratings!=0.)] = 1.\n",
    "tr_n_pairs = np.sum(tr_mask)\n",
    "te_n_pairs = np.sum(te_mask)"
   ]
  },
  {
   "cell_type": "code",
   "execution_count": 379,
   "metadata": {},
   "outputs": [],
   "source": [
    "rating_estimate_masked = lambda users, movies, mask: np.multiply(np.matmul(users, movies.T), mask)\n",
    "error_est = lambda true, pred:  pred - true\n",
    "gradient = lambda error, weights_to_upd, weights_other, l: 1 / n_pairs * np.matmul(error, weights_other) + l * weights_to_upd\n",
    "loss = lambda user, movies, l, ratings, mask: 1 / n_pairs * np.sum(np.square(ratings - rating_estimate_masked(user, movies, mask))) + \\\n",
    "l * (np.linalg.norm(user_m) + np.linalg.norm(item_m))\n",
    "# grad_u = lambda user, movies, l: \n",
    "\n"
   ]
  },
  {
   "cell_type": "code",
   "execution_count": 382,
   "metadata": {},
   "outputs": [
    {
     "name": "stdout",
     "output_type": "stream",
     "text": [
      "2.6014197500000145\n",
      "2.601419750000013\n",
      "2.6014197500000122\n",
      "2.6014197500000114\n",
      "2.6014197500000105\n"
     ]
    },
    {
     "ename": "KeyboardInterrupt",
     "evalue": "",
     "output_type": "error",
     "traceback": [
      "\u001b[0;31m---------------------------------------------------------------------------\u001b[0m",
      "\u001b[0;31mKeyboardInterrupt\u001b[0m                         Traceback (most recent call last)",
      "\u001b[0;32m<ipython-input-382-a6556bf211dd>\u001b[0m in \u001b[0;36m<module>\u001b[0;34m\u001b[0m\n\u001b[1;32m      2\u001b[0m     \u001b[0muser_m\u001b[0m \u001b[0;34m=\u001b[0m \u001b[0muser_m\u001b[0m \u001b[0;34m-\u001b[0m \u001b[0mlr\u001b[0m \u001b[0;34m*\u001b[0m \u001b[0mgradient\u001b[0m\u001b[0;34m(\u001b[0m\u001b[0merror_est\u001b[0m\u001b[0;34m(\u001b[0m\u001b[0mtr_ratings\u001b[0m\u001b[0;34m,\u001b[0m \u001b[0mrating_estimate_masked\u001b[0m\u001b[0;34m(\u001b[0m\u001b[0muser_m\u001b[0m\u001b[0;34m,\u001b[0m \u001b[0mitem_m\u001b[0m\u001b[0;34m,\u001b[0m \u001b[0mtr_mask\u001b[0m\u001b[0;34m)\u001b[0m\u001b[0;34m)\u001b[0m\u001b[0;34m,\u001b[0m \u001b[0muser_m\u001b[0m\u001b[0;34m,\u001b[0m \u001b[0mitem_m\u001b[0m\u001b[0;34m,\u001b[0m \u001b[0ml\u001b[0m\u001b[0;34m)\u001b[0m\u001b[0;34m\u001b[0m\u001b[0;34m\u001b[0m\u001b[0m\n\u001b[1;32m      3\u001b[0m     \u001b[0mitem_m\u001b[0m \u001b[0;34m=\u001b[0m \u001b[0mitem_m\u001b[0m \u001b[0;34m-\u001b[0m \u001b[0mlr\u001b[0m \u001b[0;34m*\u001b[0m \u001b[0mgradient\u001b[0m\u001b[0;34m(\u001b[0m\u001b[0merror_est\u001b[0m\u001b[0;34m(\u001b[0m\u001b[0mtr_ratings\u001b[0m\u001b[0;34m,\u001b[0m \u001b[0mrating_estimate_masked\u001b[0m\u001b[0;34m(\u001b[0m\u001b[0muser_m\u001b[0m\u001b[0;34m,\u001b[0m \u001b[0mitem_m\u001b[0m\u001b[0;34m,\u001b[0m \u001b[0mtr_mask\u001b[0m\u001b[0;34m)\u001b[0m\u001b[0;34m)\u001b[0m\u001b[0;34m.\u001b[0m\u001b[0mT\u001b[0m\u001b[0;34m,\u001b[0m \u001b[0mitem_m\u001b[0m\u001b[0;34m,\u001b[0m \u001b[0muser_m\u001b[0m\u001b[0;34m,\u001b[0m \u001b[0ml\u001b[0m\u001b[0;34m)\u001b[0m\u001b[0;34m\u001b[0m\u001b[0;34m\u001b[0m\u001b[0m\n\u001b[0;32m----> 4\u001b[0;31m     \u001b[0mprint\u001b[0m\u001b[0;34m(\u001b[0m\u001b[0mloss\u001b[0m\u001b[0;34m(\u001b[0m\u001b[0muser_m\u001b[0m\u001b[0;34m,\u001b[0m \u001b[0mitem_m\u001b[0m\u001b[0;34m,\u001b[0m \u001b[0ml\u001b[0m\u001b[0;34m,\u001b[0m \u001b[0mte_ratings\u001b[0m\u001b[0;34m,\u001b[0m \u001b[0mte_mask\u001b[0m\u001b[0;34m)\u001b[0m\u001b[0;34m)\u001b[0m\u001b[0;34m\u001b[0m\u001b[0;34m\u001b[0m\u001b[0m\n\u001b[0m\u001b[1;32m      5\u001b[0m     \u001b[0mlr\u001b[0m \u001b[0;34m*=\u001b[0m \u001b[0mlr_decay\u001b[0m\u001b[0;34m\u001b[0m\u001b[0;34m\u001b[0m\u001b[0m\n",
      "\u001b[0;32m<ipython-input-379-0193d7c02288>\u001b[0m in \u001b[0;36m<lambda>\u001b[0;34m(user, movies, l, ratings, mask)\u001b[0m\n\u001b[1;32m      2\u001b[0m \u001b[0merror_est\u001b[0m \u001b[0;34m=\u001b[0m \u001b[0;32mlambda\u001b[0m \u001b[0mtrue\u001b[0m\u001b[0;34m,\u001b[0m \u001b[0mpred\u001b[0m\u001b[0;34m:\u001b[0m  \u001b[0mpred\u001b[0m \u001b[0;34m-\u001b[0m \u001b[0mtrue\u001b[0m\u001b[0;34m\u001b[0m\u001b[0;34m\u001b[0m\u001b[0m\n\u001b[1;32m      3\u001b[0m \u001b[0mgradient\u001b[0m \u001b[0;34m=\u001b[0m \u001b[0;32mlambda\u001b[0m \u001b[0merror\u001b[0m\u001b[0;34m,\u001b[0m \u001b[0mweights_to_upd\u001b[0m\u001b[0;34m,\u001b[0m \u001b[0mweights_other\u001b[0m\u001b[0;34m,\u001b[0m \u001b[0ml\u001b[0m\u001b[0;34m:\u001b[0m \u001b[0;36m1\u001b[0m \u001b[0;34m/\u001b[0m \u001b[0mn_pairs\u001b[0m \u001b[0;34m*\u001b[0m \u001b[0mnp\u001b[0m\u001b[0;34m.\u001b[0m\u001b[0mmatmul\u001b[0m\u001b[0;34m(\u001b[0m\u001b[0merror\u001b[0m\u001b[0;34m,\u001b[0m \u001b[0mweights_other\u001b[0m\u001b[0;34m)\u001b[0m \u001b[0;34m+\u001b[0m \u001b[0ml\u001b[0m \u001b[0;34m*\u001b[0m \u001b[0mweights_to_upd\u001b[0m\u001b[0;34m\u001b[0m\u001b[0;34m\u001b[0m\u001b[0m\n\u001b[0;32m----> 4\u001b[0;31m \u001b[0mloss\u001b[0m \u001b[0;34m=\u001b[0m \u001b[0;32mlambda\u001b[0m \u001b[0muser\u001b[0m\u001b[0;34m,\u001b[0m \u001b[0mmovies\u001b[0m\u001b[0;34m,\u001b[0m \u001b[0ml\u001b[0m\u001b[0;34m,\u001b[0m \u001b[0mratings\u001b[0m\u001b[0;34m,\u001b[0m \u001b[0mmask\u001b[0m\u001b[0;34m:\u001b[0m \u001b[0;36m1\u001b[0m \u001b[0;34m/\u001b[0m \u001b[0mn_pairs\u001b[0m \u001b[0;34m*\u001b[0m \u001b[0mnp\u001b[0m\u001b[0;34m.\u001b[0m\u001b[0msum\u001b[0m\u001b[0;34m(\u001b[0m\u001b[0mnp\u001b[0m\u001b[0;34m.\u001b[0m\u001b[0msquare\u001b[0m\u001b[0;34m(\u001b[0m\u001b[0mratings\u001b[0m \u001b[0;34m-\u001b[0m \u001b[0mrating_estimate_masked\u001b[0m\u001b[0;34m(\u001b[0m\u001b[0muser\u001b[0m\u001b[0;34m,\u001b[0m \u001b[0mmovies\u001b[0m\u001b[0;34m,\u001b[0m \u001b[0mmask\u001b[0m\u001b[0;34m)\u001b[0m\u001b[0;34m)\u001b[0m\u001b[0;34m)\u001b[0m \u001b[0;34m+\u001b[0m\u001b[0;31m \u001b[0m\u001b[0;31m\\\u001b[0m\u001b[0;34m\u001b[0m\u001b[0;34m\u001b[0m\u001b[0m\n\u001b[0m\u001b[1;32m      5\u001b[0m \u001b[0ml\u001b[0m \u001b[0;34m*\u001b[0m \u001b[0;34m(\u001b[0m\u001b[0mnp\u001b[0m\u001b[0;34m.\u001b[0m\u001b[0mlinalg\u001b[0m\u001b[0;34m.\u001b[0m\u001b[0mnorm\u001b[0m\u001b[0;34m(\u001b[0m\u001b[0muser_m\u001b[0m\u001b[0;34m)\u001b[0m \u001b[0;34m+\u001b[0m \u001b[0mnp\u001b[0m\u001b[0;34m.\u001b[0m\u001b[0mlinalg\u001b[0m\u001b[0;34m.\u001b[0m\u001b[0mnorm\u001b[0m\u001b[0;34m(\u001b[0m\u001b[0mitem_m\u001b[0m\u001b[0;34m)\u001b[0m\u001b[0;34m)\u001b[0m\u001b[0;34m\u001b[0m\u001b[0;34m\u001b[0m\u001b[0m\n\u001b[1;32m      6\u001b[0m \u001b[0;31m# grad_u = lambda user, movies, l:\u001b[0m\u001b[0;34m\u001b[0m\u001b[0;34m\u001b[0m\u001b[0;34m\u001b[0m\u001b[0m\n",
      "\u001b[0;31mKeyboardInterrupt\u001b[0m: "
     ]
    }
   ],
   "source": [
    "for i in range(max_iter):\n",
    "    user_m = user_m - lr * gradient(error_est(tr_ratings, rating_estimate_masked(user_m, item_m, tr_mask)), user_m, item_m, l)\n",
    "    item_m = item_m - lr * gradient(error_est(tr_ratings, rating_estimate_masked(user_m, item_m, tr_mask)).T, item_m, user_m, l)\n",
    "    print(loss(user_m, item_m, l, te_ratings, te_mask))\n",
    "    lr *= lr_decay"
   ]
  },
  {
   "cell_type": "code",
   "execution_count": 326,
   "metadata": {},
   "outputs": [],
   "source": [
    "\n"
   ]
  },
  {
   "cell_type": "code",
   "execution_count": 330,
   "metadata": {},
   "outputs": [],
   "source": [
    "train.to_csv(\"train.csv\", index=False)\n",
    "test.to_csv(\"test.csv\", index=False)"
   ]
  },
  {
   "cell_type": "code",
   "execution_count": 335,
   "metadata": {},
   "outputs": [
    {
     "ename": "ValueError",
     "evalue": "operands could not be broadcast together with shapes (6687,) (6674,) ",
     "output_type": "error",
     "traceback": [
      "\u001b[0;31m---------------------------------------------------------------------------\u001b[0m",
      "\u001b[0;31mValueError\u001b[0m                                Traceback (most recent call last)",
      "\u001b[0;32m<ipython-input-335-9b6cabc3f48a>\u001b[0m in \u001b[0;36m<module>\u001b[0;34m\u001b[0m\n\u001b[0;32m----> 1\u001b[0;31m \u001b[0mtrain\u001b[0m\u001b[0;34m[\u001b[0m\u001b[0;34m'userId'\u001b[0m\u001b[0;34m]\u001b[0m\u001b[0;34m.\u001b[0m\u001b[0munique\u001b[0m\u001b[0;34m(\u001b[0m\u001b[0;34m)\u001b[0m \u001b[0;34m+\u001b[0m \u001b[0mtest\u001b[0m\u001b[0;34m[\u001b[0m\u001b[0;34m'userId'\u001b[0m\u001b[0;34m]\u001b[0m\u001b[0;34m.\u001b[0m\u001b[0munique\u001b[0m\u001b[0;34m(\u001b[0m\u001b[0;34m)\u001b[0m\u001b[0;34m\u001b[0m\u001b[0;34m\u001b[0m\u001b[0m\n\u001b[0m",
      "\u001b[0;31mValueError\u001b[0m: operands could not be broadcast together with shapes (6687,) (6674,) "
     ]
    }
   ],
   "source": [
    "train['userId'].unique() + test['userId'].unique()"
   ]
  },
  {
   "cell_type": "code",
   "execution_count": null,
   "metadata": {},
   "outputs": [],
   "source": []
  }
 ],
 "metadata": {
  "kernelspec": {
   "display_name": "Python 3",
   "language": "python",
   "name": "python3"
  },
  "language_info": {
   "codemirror_mode": {
    "name": "ipython",
    "version": 3
   },
   "file_extension": ".py",
   "mimetype": "text/x-python",
   "name": "python",
   "nbconvert_exporter": "python",
   "pygments_lexer": "ipython3",
   "version": "3.7.2"
  }
 },
 "nbformat": 4,
 "nbformat_minor": 2
}
